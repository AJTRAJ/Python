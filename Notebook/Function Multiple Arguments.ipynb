{
 "cells": [
  {
   "cell_type": "code",
   "execution_count": 1,
   "metadata": {},
   "outputs": [
    {
     "name": "stdout",
     "output_type": "stream",
     "text": [
      "Asr for Training\n"
     ]
    }
   ],
   "source": [
    "# no argument is passed \n",
    "  \n",
    "# function definition \n",
    "def displayMesaage(): \n",
    "      print(\"Asr for Training\") \n",
    "  \n",
    "# function call \n",
    "displayMesaage() \n"
   ]
  },
  {
   "cell_type": "code",
   "execution_count": 2,
   "metadata": {},
   "outputs": [
    {
     "name": "stdout",
     "output_type": "stream",
     "text": [
      "Hello R2J !\n"
     ]
    }
   ],
   "source": [
    "# single argument is passed \n",
    "  \n",
    "# function definition \n",
    "def displayMessage(msg): \n",
    "       print(\"Hello \"+msg+\" !\") \n",
    "  \n",
    "msg = \"R2J\"\n",
    "  \n",
    "# function call \n",
    "displayMessage(msg) \n"
   ]
  },
  {
   "cell_type": "code",
   "execution_count": 3,
   "metadata": {},
   "outputs": [
    {
     "name": "stdout",
     "output_type": "stream",
     "text": [
      "Asr 4 Training\n"
     ]
    }
   ],
   "source": [
    "# multiple arguments are passed \n",
    "  \n",
    "# function definition \n",
    "def displayMessage(argument1, argument2, argument3): \n",
    "          print(argument1+\" \"+argument2+\" \"+argument3) \n",
    "  \n",
    "# function call \n",
    "displayMessage(\"Asr\", \"4\", \"Training\") \n"
   ]
  },
  {
   "cell_type": "code",
   "execution_count": 4,
   "metadata": {},
   "outputs": [
    {
     "name": "stdout",
     "output_type": "stream",
     "text": [
      "15\n",
      "275\n"
     ]
    }
   ],
   "source": [
    "# variable number of non keyword arguments passed \n",
    "  \n",
    "# function definition \n",
    "def calculateTotalSum(*arguments): \n",
    "    totalSum = 0\n",
    "    for number in arguments: \n",
    "        totalSum += number \n",
    "    print(totalSum) \n",
    "  \n",
    "# function call \n",
    "calculateTotalSum(5, 4, 3, 2, 1) \n",
    "calculateTotalSum(5, 4, 3, 2,76,87,98) \n"
   ]
  },
  {
   "cell_type": "code",
   "execution_count": 5,
   "metadata": {},
   "outputs": [
    {
     "name": "stdout",
     "output_type": "stream",
     "text": [
      "('argument1', 'Asr')\n",
      "('argument2', 4)\n",
      "('argument3', 'Asr')\n"
     ]
    }
   ],
   "source": [
    "# variable number of keyword arguments passed \n",
    "  \n",
    "# function definition \n",
    "def displayArgument(**arguments):  \n",
    "    for arg in arguments.items(): \n",
    "        print(arg) \n",
    "  \n",
    "# function call \n",
    "displayArgument(argument1 =\"Asr\", argument2 = 4, \n",
    "                argument3 =\"Asr\") \n"
   ]
  },
  {
   "cell_type": "code",
   "execution_count": 7,
   "metadata": {},
   "outputs": [
    {
     "name": "stdout",
     "output_type": "stream",
     "text": [
      "Welcome\n",
      "('agr4', 4)\n",
      "('arg5', 'Hari !')\n"
     ]
    }
   ],
   "source": [
    "# single argument, non keyword argument  \n",
    "# and keyword argument are passed \n",
    "  \n",
    "# function definiton \n",
    "def dislplayArguments(argument1, *argument2, **argument3):  \n",
    "      \n",
    "    # displaying predetermined argument \n",
    "    print(argument1) \n",
    "      \n",
    "    # displaying non keyword arguments \n",
    "    #for arg in argument2: \n",
    "     #   print(arg) \n",
    "      \n",
    "    # displaying non keyword argumets \n",
    "    for arg in argument3.items(): \n",
    "      print(arg) \n",
    "\n",
    "arg1 = \"Welcome\"\n",
    "arg3 = \"Hari\"\n",
    "  \n",
    "# fucntion call \n",
    "dislplayArguments(arg1, \"to\", arg3, agr4 = 4, \n",
    "                  arg5 =\"Hari !\") \n"
   ]
  },
  {
   "cell_type": "code",
   "execution_count": null,
   "metadata": {},
   "outputs": [],
   "source": []
  }
 ],
 "metadata": {
  "kernelspec": {
   "display_name": "Python 3",
   "language": "python",
   "name": "python3"
  },
  "language_info": {
   "codemirror_mode": {
    "name": "ipython",
    "version": 3
   },
   "file_extension": ".py",
   "mimetype": "text/x-python",
   "name": "python",
   "nbconvert_exporter": "python",
   "pygments_lexer": "ipython3",
   "version": "3.7.7"
  }
 },
 "nbformat": 4,
 "nbformat_minor": 4
}
