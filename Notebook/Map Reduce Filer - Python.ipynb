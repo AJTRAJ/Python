{
 "cells": [
  {
   "cell_type": "code",
   "execution_count": 2,
   "metadata": {},
   "outputs": [
    {
     "name": "stdout",
     "output_type": "stream",
     "text": [
      "<map object at 0x10c3a2610>\n",
      "{16, 1, 4, 9}\n"
     ]
    }
   ],
   "source": [
    "def newfunc(a):\n",
    "    return a*a\n",
    "x = map(newfunc, (1,2,3,4))  #x is the map object\n",
    "print(x)\n",
    "print(set(x))\n"
   ]
  },
  {
   "cell_type": "code",
   "execution_count": 4,
   "metadata": {},
   "outputs": [
    {
     "name": "stdout",
     "output_type": "stream",
     "text": [
      "<map object at 0x10c3a6190>\n",
      "[1, 4, 9, 16]\n"
     ]
    }
   ],
   "source": [
    "def newfunc(a):\n",
    "    return a*a\n",
    "x = map(newfunc, (1,2,3,4))  #x is the map object\n",
    "print(x)\n",
    "print(list(x))\n"
   ]
  },
  {
   "cell_type": "code",
   "execution_count": 5,
   "metadata": {},
   "outputs": [
    {
     "name": "stdout",
     "output_type": "stream",
     "text": [
      "<map object at 0x10c3a68d0>\n",
      "(3, 6, 8)\n"
     ]
    }
   ],
   "source": [
    "def func(a, b):\n",
    "    return a + b\n",
    " \n",
    "a = map(func, [2, 4, 5], [1,2,3])\n",
    "print(a)\n",
    "print(tuple(a))\n"
   ]
  },
  {
   "cell_type": "code",
   "execution_count": 6,
   "metadata": {},
   "outputs": [
    {
     "name": "stdout",
     "output_type": "stream",
     "text": [
      "(8, 10, 25, 100, 57, 65, 80, 26, 76, 64)\n"
     ]
    }
   ],
   "source": [
    "tup= (5, 7, 22, 97, 54, 62, 77, 23, 73, 61)\n",
    "newtuple = tuple(map(lambda x: x+3 , tup)) \n",
    "print(newtuple)\n"
   ]
  },
  {
   "cell_type": "code",
   "execution_count": 7,
   "metadata": {},
   "outputs": [
    {
     "name": "stdout",
     "output_type": "stream",
     "text": [
      "<filter object at 0x10c3a7190>\n",
      "[3, 4]\n"
     ]
    }
   ],
   "source": [
    "def func(x):\n",
    "    if x>=3:\n",
    "        return x\n",
    "y = filter(func, (1,2,3,4))  \n",
    "print(y)\n",
    "print(list(y))\n"
   ]
  },
  {
   "cell_type": "code",
   "execution_count": 8,
   "metadata": {},
   "outputs": [
    {
     "name": "stdout",
     "output_type": "stream",
     "text": [
      "[3, 4]\n"
     ]
    }
   ],
   "source": [
    "y = filter(lambda x: (x>=3), (1,2,3,4))\n",
    "print(list(y))\n"
   ]
  },
  {
   "cell_type": "code",
   "execution_count": 9,
   "metadata": {},
   "outputs": [
    {
     "data": {
      "text/plain": [
       "187"
      ]
     },
     "execution_count": 9,
     "metadata": {},
     "output_type": "execute_result"
    }
   ],
   "source": [
    "from functools import reduce\n",
    "reduce(lambda a,b: a+b,[23,21,45,98])\n"
   ]
  },
  {
   "cell_type": "code",
   "execution_count": 10,
   "metadata": {},
   "outputs": [
    {
     "name": "stdout",
     "output_type": "stream",
     "text": [
      "[6, 8]\n"
     ]
    }
   ],
   "source": [
    "c = map(lambda x:x+x,filter(lambda x: (x>=3), (1,2,3,4)))\n",
    "print(list(c))\n"
   ]
  },
  {
   "cell_type": "code",
   "execution_count": 11,
   "metadata": {},
   "outputs": [
    {
     "name": "stdout",
     "output_type": "stream",
     "text": [
      "[4, 6, 8]\n"
     ]
    }
   ],
   "source": [
    "c = filter(lambda x: (x>=3),map(lambda x:x+x, (1,2,3,4)))  #lambda x: (x>=3)\n",
    "print(list(c))\n"
   ]
  },
  {
   "cell_type": "code",
   "execution_count": 12,
   "metadata": {},
   "outputs": [
    {
     "name": "stdout",
     "output_type": "stream",
     "text": [
      "14\n"
     ]
    }
   ],
   "source": [
    "d = reduce(lambda x,y: x+y,map(lambda x:x+x,filter(lambda x: (x>=3), (1,2,3,4)))) \n",
    "print(d)\n"
   ]
  },
  {
   "cell_type": "code",
   "execution_count": null,
   "metadata": {},
   "outputs": [],
   "source": []
  }
 ],
 "metadata": {
  "kernelspec": {
   "display_name": "Python 3",
   "language": "python",
   "name": "python3"
  },
  "language_info": {
   "codemirror_mode": {
    "name": "ipython",
    "version": 3
   },
   "file_extension": ".py",
   "mimetype": "text/x-python",
   "name": "python",
   "nbconvert_exporter": "python",
   "pygments_lexer": "ipython3",
   "version": "3.7.7"
  }
 },
 "nbformat": 4,
 "nbformat_minor": 4
}
