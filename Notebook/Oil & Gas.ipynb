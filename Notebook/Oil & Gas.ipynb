{
 "cells": [
  {
   "cell_type": "code",
   "execution_count": 1,
   "metadata": {},
   "outputs": [],
   "source": [
    "import pandas as pd \n",
    "import numpy as np\n",
    "import matplotlib as plt\n",
    "import seaborn as sns\n",
    "sns.set_style('whitegrid')\n",
    "%matplotlib inline"
   ]
  },
  {
   "cell_type": "code",
   "execution_count": 2,
   "metadata": {},
   "outputs": [],
   "source": [
    "dataset= pd.read_csv(\"/Users/arajpoo3/ExtraLearning/Python/Oil & Gas Use Case/all_energy_statistics.csv\")\n",
    "#Drop the column that majorly include null value\n",
    "dataset.drop(\"quantity_footnotes\", axis=1, inplace=True)"
   ]
  },
  {
   "cell_type": "code",
   "execution_count": 3,
   "metadata": {},
   "outputs": [
    {
     "data": {
      "text/html": [
       "<div>\n",
       "<style scoped>\n",
       "    .dataframe tbody tr th:only-of-type {\n",
       "        vertical-align: middle;\n",
       "    }\n",
       "\n",
       "    .dataframe tbody tr th {\n",
       "        vertical-align: top;\n",
       "    }\n",
       "\n",
       "    .dataframe thead th {\n",
       "        text-align: right;\n",
       "    }\n",
       "</style>\n",
       "<table border=\"1\" class=\"dataframe\">\n",
       "  <thead>\n",
       "    <tr style=\"text-align: right;\">\n",
       "      <th></th>\n",
       "      <th>country_or_area</th>\n",
       "      <th>commodity_transaction</th>\n",
       "      <th>year</th>\n",
       "      <th>unit</th>\n",
       "      <th>quantity</th>\n",
       "      <th>category</th>\n",
       "    </tr>\n",
       "  </thead>\n",
       "  <tbody>\n",
       "    <tr>\n",
       "      <th>0</th>\n",
       "      <td>Austria</td>\n",
       "      <td>Additives and Oxygenates - Exports</td>\n",
       "      <td>1996</td>\n",
       "      <td>Metric tons,  thousand</td>\n",
       "      <td>5.0</td>\n",
       "      <td>additives_and_oxygenates</td>\n",
       "    </tr>\n",
       "    <tr>\n",
       "      <th>1</th>\n",
       "      <td>Austria</td>\n",
       "      <td>Additives and Oxygenates - Exports</td>\n",
       "      <td>1995</td>\n",
       "      <td>Metric tons,  thousand</td>\n",
       "      <td>17.0</td>\n",
       "      <td>additives_and_oxygenates</td>\n",
       "    </tr>\n",
       "    <tr>\n",
       "      <th>2</th>\n",
       "      <td>Belgium</td>\n",
       "      <td>Additives and Oxygenates - Exports</td>\n",
       "      <td>2014</td>\n",
       "      <td>Metric tons,  thousand</td>\n",
       "      <td>0.0</td>\n",
       "      <td>additives_and_oxygenates</td>\n",
       "    </tr>\n",
       "  </tbody>\n",
       "</table>\n",
       "</div>"
      ],
      "text/plain": [
       "  country_or_area               commodity_transaction  year  \\\n",
       "0         Austria  Additives and Oxygenates - Exports  1996   \n",
       "1         Austria  Additives and Oxygenates - Exports  1995   \n",
       "2         Belgium  Additives and Oxygenates - Exports  2014   \n",
       "\n",
       "                     unit  quantity                  category  \n",
       "0  Metric tons,  thousand       5.0  additives_and_oxygenates  \n",
       "1  Metric tons,  thousand      17.0  additives_and_oxygenates  \n",
       "2  Metric tons,  thousand       0.0  additives_and_oxygenates  "
      ]
     },
     "execution_count": 3,
     "metadata": {},
     "output_type": "execute_result"
    }
   ],
   "source": [
    "dataset.head(3)\n",
    "#dataset.commodity_transaction.isnull().sum() (commodity_transaction ve category kolonlarında eksik yok)"
   ]
  },
  {
   "cell_type": "code",
   "execution_count": 4,
   "metadata": {},
   "outputs": [
    {
     "name": "stdout",
     "output_type": "stream",
     "text": [
      "71\n",
      "2452\n"
     ]
    }
   ],
   "source": [
    "#How many categories in the dataset\n",
    "print(dataset['category'].value_counts().count())\n",
    "#How many commodity_transaction in the dataset\n",
    "print(dataset['commodity_transaction'].value_counts().count())"
   ]
  },
  {
   "cell_type": "code",
   "execution_count": 5,
   "metadata": {},
   "outputs": [],
   "source": [
    "#G-7 COUNTRIES: \n",
    "US = dataset[dataset.country_or_area.isin([\"United States\"])].sort_values('year')\n",
    "CAN = dataset[dataset.country_or_area.isin([\"Canada\"])].sort_values('year')\n",
    "JAP = dataset[dataset.country_or_area.isin(['Japan'])].sort_values('year')\n",
    "UK =dataset[dataset.country_or_area.isin(['United Kingdom'])].sort_values('year')\n",
    "GER = dataset[dataset.country_or_area.isin([\"Germany\"])].sort_values('year')\n",
    "ITA = dataset[dataset.country_or_area.isin(['Italy'])].sort_values('year')\n",
    "FRA = dataset[dataset.country_or_area.isin([\"France\"])].sort_values('year')\n",
    "#List of various EU countries \n",
    "SP = dataset[dataset.country_or_area.isin([\"Spain\"])].sort_values('year')\n",
    "NETH = dataset[dataset.country_or_area.isin(['Netherlands'])].sort_values('year')\n",
    "NOR = dataset[dataset.country_or_area.isin([\"Norway\"])].sort_values('year')\n",
    "POR = dataset[dataset.country_or_area.isin([\"Portugal\"])].sort_values('year')\n",
    "#DEVELOPING STATES: \n",
    "TUR = dataset[dataset.country_or_area.isin([\"Turkey\"])].sort_values('year')\n",
    "SKOR = dataset[dataset.country_or_area.isin([\"Korea, Republic of\"])].sort_values('year')\n",
    "SAUD = dataset[dataset.country_or_area.isin([\"Saudi Arabia\"])].sort_values('year')\n",
    "AUST= dataset[dataset.country_or_area.isin([\"Australia\"])].sort_values('year') \n",
    "ARG= dataset[dataset.country_or_area.isin([\"Argentina\"])].sort_values('year') \n",
    "INDO= dataset[dataset.country_or_area.isin([\"Indonesia\"])].sort_values('year') \n",
    "MEX= dataset[dataset.country_or_area.isin([\"Mexico\"])].sort_values('year') \n",
    "#BRICS STATES: \n",
    "BR= dataset[dataset.country_or_area.isin(['Brazil'])].sort_values('year')\n",
    "RUS = dataset[dataset.country_or_area.isin(['Russian Federation'])].sort_values('year')\n",
    "IND = dataset[dataset.country_or_area.isin(['India'])].sort_values('year')\n",
    "CHI = dataset[dataset.country_or_area.isin([\"China\"])].sort_values('year')\n",
    "SAfr = dataset[dataset.country_or_area.isin([\"South Africa\"])].sort_values('year')"
   ]
  },
  {
   "cell_type": "code",
   "execution_count": null,
   "metadata": {},
   "outputs": [],
   "source": [
    "Petroleum\n",
    "Some Categories in the dataset:\n",
    "\n",
    "gas_oil_diesel_oil: Gas Oil/ Diesel Oil -Total energy supply ;\n",
    "fuel_oil\n",
    "liquified_petroleum_gas motor_gasoline kerosene_type_jet_fuel conventional_crude_oil\n",
    "other_bituminous_coal\n",
    "other_oil_products_n_e_c\n",
    "lubricants\n",
    "aviation_gasoline bitumen\n",
    "biodiesel\n",
    "black_liquor\n",
    "biogasoline other_liquid_biofuels oil_shale_oil_sands naphta"
   ]
  },
  {
   "cell_type": "code",
   "execution_count": 6,
   "metadata": {},
   "outputs": [
    {
     "data": {
      "text/plain": [
       "Gas Oil/ Diesel Oil - Total energy supply                                                        5362\n",
       "Gas Oil/ Diesel Oil - Final consumption                                                          5241\n",
       "Gas Oil/ Diesel Oil - Final energy consumption                                                   5240\n",
       "Gas Oil/ Diesel Oil - Imports                                                                    5153\n",
       "Gas Oil/ Diesel Oil - Consumption by transport                                                   4955\n",
       "Gas Oil/ Diesel Oil - Transformation                                                             4731\n",
       "Gas Oil/ Diesel Oil - Transformation in electricity, CHP and heat plants                         4701\n",
       "Gas Oil/ Diesel Oil - Consumption in road                                                        4669\n",
       "Gas Oil/ Diesel Oil - Consumption by manufacturing, construction and non-fuel mining industry    3487\n",
       "Gas Oil/ Diesel Oil - Consumption by other manuf., const. and non-fuel min. ind.                 3477\n",
       "Name: commodity_transaction, dtype: int64"
      ]
     },
     "execution_count": 6,
     "metadata": {},
     "output_type": "execute_result"
    }
   ],
   "source": [
    "#\n",
    "gas_oil= dataset[dataset.category==\"gas_oil_diesel_oil\"].sort_values(\"year\")\n",
    "gas_oil[\"commodity_transaction\"].value_counts().head(10)"
   ]
  },
  {
   "cell_type": "code",
   "execution_count": 7,
   "metadata": {},
   "outputs": [
    {
     "data": {
      "text/plain": [
       "Conventional crude oil - total energy supply                 3088\n",
       "Crude petroleum - refinery capacity                          3043\n",
       "Conventional crude oil - transformation                      2914\n",
       "Conventional crude oil - transformation in oil refineries    2893\n",
       "Conventional crude oil - stock changes                       2377\n",
       "Conventional crude oil - production                          2371\n",
       "Conventional crude oil - imports                             2324\n",
       "Crude petroleum - reserves                                   2290\n",
       "Conventional crude oil - exports                             1884\n",
       "Conventional crude oil - energy industries own use            506\n",
       "Name: commodity_transaction, dtype: int64"
      ]
     },
     "execution_count": 7,
     "metadata": {},
     "output_type": "execute_result"
    }
   ],
   "source": [
    "conventional_crude=dataset[dataset.category==\"conventional_crude_oil\"].sort_values(\"year\")\n",
    "conventional_crude[\"commodity_transaction\"].value_counts().head(10)"
   ]
  },
  {
   "cell_type": "code",
   "execution_count": 8,
   "metadata": {},
   "outputs": [
    {
     "data": {
      "text/plain": [
       "Biodiesel - Total energy supply         509\n",
       "Biodiesel - Final energy consumption    500\n",
       "Biodiesel - Final consumption           500\n",
       "Biodiesel - Consumption in transport    499\n",
       "Biodiesel - Consumption by road         499\n",
       "Biodiesel - Production                  478\n",
       "Name: commodity_transaction, dtype: int64"
      ]
     },
     "execution_count": 8,
     "metadata": {},
     "output_type": "execute_result"
    }
   ],
   "source": [
    "biodiesel=dataset[dataset.category==\"biodiesel\"].sort_values(\"year\")\n",
    "biodiesel[\"commodity_transaction\"].value_counts().head(6)"
   ]
  },
  {
   "cell_type": "code",
   "execution_count": 9,
   "metadata": {},
   "outputs": [
    {
     "ename": "NameError",
     "evalue": "name 'SP_CrudeSupply' is not defined",
     "output_type": "error",
     "traceback": [
      "\u001b[0;31m---------------------------------------------------------------------------\u001b[0m",
      "\u001b[0;31mNameError\u001b[0m                                 Traceback (most recent call last)",
      "\u001b[0;32m<ipython-input-9-e331624ce305>\u001b[0m in \u001b[0;36m<module>\u001b[0;34m\u001b[0m\n\u001b[1;32m      1\u001b[0m \u001b[0;31m#To merge the dataset of some EU members to represent the EU oil data...\u001b[0m\u001b[0;34m\u001b[0m\u001b[0;34m\u001b[0m\u001b[0;34m\u001b[0m\u001b[0m\n\u001b[0;32m----> 2\u001b[0;31m \u001b[0mEU_CrudeSupply\u001b[0m\u001b[0;34m=\u001b[0m\u001b[0mpd\u001b[0m\u001b[0;34m.\u001b[0m\u001b[0mmerge\u001b[0m\u001b[0;34m(\u001b[0m\u001b[0mSP_CrudeSupply\u001b[0m\u001b[0;34m,\u001b[0m\u001b[0mITA_CrudeSupply\u001b[0m\u001b[0;34m,\u001b[0m \u001b[0mon\u001b[0m\u001b[0;34m=\u001b[0m\u001b[0;34m\"year\"\u001b[0m\u001b[0;34m,\u001b[0m \u001b[0mhow\u001b[0m\u001b[0;34m=\u001b[0m\u001b[0;34m\"outer\"\u001b[0m\u001b[0;34m)\u001b[0m\u001b[0;34m\u001b[0m\u001b[0;34m\u001b[0m\u001b[0m\n\u001b[0m",
      "\u001b[0;31mNameError\u001b[0m: name 'SP_CrudeSupply' is not defined"
     ]
    }
   ],
   "source": [
    "#To merge the dataset of some EU members to represent the EU oil data...\n",
    "EU_CrudeSupply=pd.merge(SP_CrudeSupply,ITA_CrudeSupply, on=\"year\", how=\"outer\")"
   ]
  },
  {
   "cell_type": "code",
   "execution_count": null,
   "metadata": {},
   "outputs": [],
   "source": [
    "https://www.kaggle.com/sametgirgin/oil-gas/notebook?select=all_energy_statistics.csv\n",
    "    "
   ]
  }
 ],
 "metadata": {
  "kernelspec": {
   "display_name": "Python 3",
   "language": "python",
   "name": "python3"
  },
  "language_info": {
   "codemirror_mode": {
    "name": "ipython",
    "version": 3
   },
   "file_extension": ".py",
   "mimetype": "text/x-python",
   "name": "python",
   "nbconvert_exporter": "python",
   "pygments_lexer": "ipython3",
   "version": "3.7.7"
  }
 },
 "nbformat": 4,
 "nbformat_minor": 4
}
