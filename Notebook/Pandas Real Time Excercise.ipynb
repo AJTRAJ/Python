{
 "cells": [
  {
   "cell_type": "code",
   "execution_count": 4,
   "metadata": {},
   "outputs": [
    {
     "name": "stdout",
     "output_type": "stream",
     "text": [
      "      animal  uniq_id  water_need\n",
      "0   elephant     1001         500\n",
      "1   elephant     1002         600\n",
      "2   elephant     1003         550\n",
      "3      tiger     1004         300\n",
      "4      tiger     1005         320\n",
      "5      tiger     1006         330\n",
      "6      tiger     1007         290\n",
      "7      tiger     1008         310\n",
      "8      zebra     1009         200\n",
      "9      zebra     1010         220\n",
      "10     zebra     1011         240\n",
      "11     zebra     1012         230\n",
      "12     zebra     1013         220\n",
      "13     zebra     1014         100\n",
      "14     zebra     1015          80\n",
      "15      lion     1016         420\n",
      "16      lion     1017         600\n",
      "17      lion     1018         500\n",
      "18      lion     1019         390\n",
      "19  kangaroo     1020         410\n",
      "20  kangaroo     1021         430\n",
      "21  kangaroo     1022         410\n"
     ]
    }
   ],
   "source": [
    "# We will have data and play with panda library\n",
    "import pandas as pd\n",
    "import numpy as np\n",
    "zoo_data = pd.read_csv('/Users/arajpoo3/ExtraLearning/Python/Juypter Notebooks/zoo.csv', delimiter = ',')\n",
    "print(zoo_data)"
   ]
  },
  {
   "cell_type": "code",
   "execution_count": 6,
   "metadata": {},
   "outputs": [
    {
     "data": {
      "text/html": [
       "<div>\n",
       "<style scoped>\n",
       "    .dataframe tbody tr th:only-of-type {\n",
       "        vertical-align: middle;\n",
       "    }\n",
       "\n",
       "    .dataframe tbody tr th {\n",
       "        vertical-align: top;\n",
       "    }\n",
       "\n",
       "    .dataframe thead th {\n",
       "        text-align: right;\n",
       "    }\n",
       "</style>\n",
       "<table border=\"1\" class=\"dataframe\">\n",
       "  <thead>\n",
       "    <tr style=\"text-align: right;\">\n",
       "      <th></th>\n",
       "      <th>animal</th>\n",
       "      <th>uniq_id</th>\n",
       "      <th>water_need</th>\n",
       "    </tr>\n",
       "  </thead>\n",
       "  <tbody>\n",
       "    <tr>\n",
       "      <td>17</td>\n",
       "      <td>lion</td>\n",
       "      <td>1018</td>\n",
       "      <td>500</td>\n",
       "    </tr>\n",
       "    <tr>\n",
       "      <td>18</td>\n",
       "      <td>lion</td>\n",
       "      <td>1019</td>\n",
       "      <td>390</td>\n",
       "    </tr>\n",
       "    <tr>\n",
       "      <td>19</td>\n",
       "      <td>kangaroo</td>\n",
       "      <td>1020</td>\n",
       "      <td>410</td>\n",
       "    </tr>\n",
       "    <tr>\n",
       "      <td>20</td>\n",
       "      <td>kangaroo</td>\n",
       "      <td>1021</td>\n",
       "      <td>430</td>\n",
       "    </tr>\n",
       "    <tr>\n",
       "      <td>21</td>\n",
       "      <td>kangaroo</td>\n",
       "      <td>1022</td>\n",
       "      <td>410</td>\n",
       "    </tr>\n",
       "  </tbody>\n",
       "</table>\n",
       "</div>"
      ],
      "text/plain": [
       "      animal  uniq_id  water_need\n",
       "17      lion     1018         500\n",
       "18      lion     1019         390\n",
       "19  kangaroo     1020         410\n",
       "20  kangaroo     1021         430\n",
       "21  kangaroo     1022         410"
      ]
     },
     "execution_count": 6,
     "metadata": {},
     "output_type": "execute_result"
    }
   ],
   "source": [
    "# Now Lets try to do some stattistics on the data.\n",
    "#Let’s count the number of rows (the number of animals) in zoo!\n",
    "#Let’s calculate the total water_need of the animals!\n",
    "#Let’s find out which is the smallest water_need value!\n",
    "#And then the greatest water_need value!\n",
    "#And eventually the average water_need!\n",
    "zoo_data.head()\n",
    "\n",
    "zoo_data.tail()"
   ]
  },
  {
   "cell_type": "code",
   "execution_count": 9,
   "metadata": {},
   "outputs": [
    {
     "data": {
      "text/plain": [
       "animal    22\n",
       "dtype: int64"
      ]
     },
     "execution_count": 9,
     "metadata": {},
     "output_type": "execute_result"
    }
   ],
   "source": [
    "#Pandas Data Aggregation count()\n",
    "#zoo_data.count()\n",
    "\n",
    "zoo_data[['animal']].count()\n",
    "\n",
    "#zoo_data.animal.count()"
   ]
  },
  {
   "cell_type": "code",
   "execution_count": 11,
   "metadata": {},
   "outputs": [
    {
     "data": {
      "text/plain": [
       "animal        elephantelephantelephanttigertigertigertigerti...\n",
       "uniq_id                                                   22253\n",
       "water_need                                                 7650\n",
       "dtype: object"
      ]
     },
     "execution_count": 11,
     "metadata": {},
     "output_type": "execute_result"
    }
   ],
   "source": [
    "# Pandas Data Aggregation sum()\n",
    "#zoo_data.water_need.sum()\n",
    "\n",
    "zoo_data.sum()"
   ]
  },
  {
   "cell_type": "code",
   "execution_count": null,
   "metadata": {},
   "outputs": [],
   "source": [
    "# Min and Max\n",
    "zoo_data.water_need.min()\n",
    "\n",
    "zoo_data.water_need.max()"
   ]
  },
  {
   "cell_type": "code",
   "execution_count": 16,
   "metadata": {},
   "outputs": [
    {
     "name": "stdout",
     "output_type": "stream",
     "text": [
      "          uniq_id  water_need\n",
      "animal                       \n",
      "elephant     3006        1650\n",
      "kangaroo     3063        1250\n",
      "lion         4070        1910\n",
      "tiger        5030        1550\n",
      "zebra        7084        1290\n"
     ]
    }
   ],
   "source": [
    "# Pandas groupby\n",
    "temp_data = zoo_data.groupby('animal').sum()\n",
    "print(temp_data)"
   ]
  },
  {
   "cell_type": "code",
   "execution_count": 17,
   "metadata": {},
   "outputs": [
    {
     "data": {
      "text/plain": [
       "animal\n",
       "elephant    550.000000\n",
       "kangaroo    416.666667\n",
       "lion        477.500000\n",
       "tiger       310.000000\n",
       "zebra       184.285714\n",
       "Name: water_need, dtype: float64"
      ]
     },
     "execution_count": 17,
     "metadata": {},
     "output_type": "execute_result"
    }
   ],
   "source": [
    "zoo_data.groupby('animal').mean().water_need"
   ]
  },
  {
   "cell_type": "code",
   "execution_count": 18,
   "metadata": {},
   "outputs": [
    {
     "data": {
      "text/plain": [
       "animal\n",
       "elephant    3\n",
       "kangaroo    3\n",
       "lion        4\n",
       "tiger       5\n",
       "zebra       7\n",
       "dtype: int64"
      ]
     },
     "execution_count": 18,
     "metadata": {},
     "output_type": "execute_result"
    }
   ],
   "source": [
    "# Group by of a Single Column and Apply a Single Aggregate Method on a Column\n",
    "\n",
    "zoo_data.groupby(by='animal').size()"
   ]
  },
  {
   "cell_type": "code",
   "execution_count": 19,
   "metadata": {},
   "outputs": [
    {
     "data": {
      "text/plain": [
       "animal    water_need\n",
       "elephant  500           1\n",
       "          550           1\n",
       "          600           1\n",
       "kangaroo  410           2\n",
       "          430           1\n",
       "lion      390           1\n",
       "          420           1\n",
       "          500           1\n",
       "          600           1\n",
       "tiger     290           1\n",
       "          300           1\n",
       "          310           1\n",
       "          320           1\n",
       "          330           1\n",
       "zebra     80            1\n",
       "          100           1\n",
       "          200           1\n",
       "          220           2\n",
       "          230           1\n",
       "          240           1\n",
       "dtype: int64"
      ]
     },
     "execution_count": 19,
     "metadata": {},
     "output_type": "execute_result"
    }
   ],
   "source": [
    "#Group by of Multiple Columns and Apply a Single Aggregate Method on a Column\n",
    "\n",
    "zoo_data.groupby(by=['animal', 'water_need']).size()"
   ]
  },
  {
   "cell_type": "code",
   "execution_count": null,
   "metadata": {},
   "outputs": [],
   "source": []
  }
 ],
 "metadata": {
  "kernelspec": {
   "display_name": "Python 3",
   "language": "python",
   "name": "python3"
  },
  "language_info": {
   "codemirror_mode": {
    "name": "ipython",
    "version": 3
   },
   "file_extension": ".py",
   "mimetype": "text/x-python",
   "name": "python",
   "nbconvert_exporter": "python",
   "pygments_lexer": "ipython3",
   "version": "3.7.4"
  }
 },
 "nbformat": 4,
 "nbformat_minor": 4
}
