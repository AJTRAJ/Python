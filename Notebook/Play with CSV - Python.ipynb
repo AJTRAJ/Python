{
 "cells": [
  {
   "cell_type": "code",
   "execution_count": 2,
   "metadata": {},
   "outputs": [
    {
     "name": "stdout",
     "output_type": "stream",
     "text": [
      "\u001b[31mERROR: Could not find a version that satisfies the requirement csv (from versions: none)\u001b[0m\r\n",
      "\u001b[31mERROR: No matching distribution found for csv\u001b[0m\r\n"
     ]
    }
   ],
   "source": [
    "!pip install csv\n"
   ]
  },
  {
   "cell_type": "code",
   "execution_count": 3,
   "metadata": {},
   "outputs": [
    {
     "name": "stdout",
     "output_type": "stream",
     "text": [
      "['01/02/14', '5', '8', 'red']\n",
      "01/02/14\n",
      "01/02/14 5 8\n",
      "['01/03/14', '5', '2', 'green']\n",
      "01/03/14\n",
      "01/03/14 5 2\n",
      "['01/04/14', '9', '1', 'blue']\n",
      "01/04/14\n",
      "01/04/14 9 1\n",
      "['01/02/14', '01/03/14', '01/04/14']\n",
      "['red', 'green', 'blue']\n",
      "['01/02/14', '01/03/14', '01/04/14']\n",
      "['red', 'green', 'blue']\n",
      "What color do you wish to know the date of?:green\n",
      "The date of green is: 01/03/14\n"
     ]
    }
   ],
   "source": [
    "import csv\n",
    "\n",
    "with open('/Users/arajpoo3/ExtraLearning/Python/Juypter Notebooks/example.csv') as csvfile:\n",
    "    readCSV = csv.reader(csvfile, delimiter=',')\n",
    "    for row in readCSV:\n",
    "        print(row)\n",
    "        print(row[0])\n",
    "        print(row[0],row[1],row[2],)\n",
    "\n",
    "\n",
    "#### next part....\n",
    "\n",
    "import csv\n",
    "\n",
    "with open('/Users/arajpoo3/ExtraLearning/Python/Juypter Notebooks/example.csv') as csvfile:\n",
    "    readCSV = csv.reader(csvfile, delimiter=',')\n",
    "    dates = []\n",
    "    colors = []\n",
    "    for row in readCSV:\n",
    "        color = row[3]\n",
    "        date = row[0]\n",
    "\n",
    "        dates.append(date)\n",
    "        colors.append(color)\n",
    "\n",
    "    print(dates)\n",
    "    print(colors)\n",
    "\n",
    "\n",
    "#### now you want to maybe ask some questions with data...\n",
    "# what day was the color green let's ask?\n",
    "\n",
    "import csv\n",
    "\n",
    "with open('/Users/arajpoo3/ExtraLearning/Python/Juypter Notebooks/example.csv') as csvfile:\n",
    "    readCSV = csv.reader(csvfile, delimiter=',')\n",
    "    dates = []\n",
    "    colors = []\n",
    "    for row in readCSV:\n",
    "        color = row[3]\n",
    "        date = row[0]\n",
    "\n",
    "        dates.append(date)\n",
    "        colors.append(color)\n",
    "\n",
    "    print(dates)\n",
    "    print(colors)\n",
    "\n",
    "    # now, remember our lists?\n",
    "\n",
    "    whatColor = input('What color do you wish to know the date of?:')\n",
    "    coldex = colors.index(whatColor)\n",
    "    theDate = dates[coldex]\n",
    "    print('The date of',whatColor,'is:',theDate)"
   ]
  }
 ],
 "metadata": {
  "kernelspec": {
   "display_name": "Python 3",
   "language": "python",
   "name": "python3"
  },
  "language_info": {
   "codemirror_mode": {
    "name": "ipython",
    "version": 3
   },
   "file_extension": ".py",
   "mimetype": "text/x-python",
   "name": "python",
   "nbconvert_exporter": "python",
   "pygments_lexer": "ipython3",
   "version": "3.6.10"
  }
 },
 "nbformat": 4,
 "nbformat_minor": 4
}
