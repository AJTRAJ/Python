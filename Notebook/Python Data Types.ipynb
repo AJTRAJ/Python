{
 "cells": [
  {
   "cell_type": "code",
   "execution_count": 1,
   "metadata": {},
   "outputs": [
    {
     "name": "stdout",
     "output_type": "stream",
     "text": [
      "100\n",
      "Data Type of variable num is <class 'int'>\n"
     ]
    }
   ],
   "source": [
    "# Integer number\n",
    "num = 100\n",
    "print(num)\n",
    "print(\"Data Type of variable num is\", type(num))\n"
   ]
  },
  {
   "cell_type": "code",
   "execution_count": 2,
   "metadata": {},
   "outputs": [
    {
     "name": "stdout",
     "output_type": "stream",
     "text": [
      "34.45\n",
      "Data Type of variable fnum is <class 'float'>\n"
     ]
    }
   ],
   "source": [
    "# float number\n",
    "fnum = 34.45\n",
    "print(fnum)\n",
    "print(\"Data Type of variable fnum is\", type(fnum))\n"
   ]
  },
  {
   "cell_type": "code",
   "execution_count": 3,
   "metadata": {},
   "outputs": [
    {
     "name": "stdout",
     "output_type": "stream",
     "text": [
      "(3+4j)\n",
      "Data Type of variable cnum is <class 'complex'>\n"
     ]
    }
   ],
   "source": [
    "# complex number\n",
    "cnum = 3 + 4j\n",
    "print(cnum)\n",
    "print(\"Data Type of variable cnum is\", type(cnum))\n"
   ]
  },
  {
   "cell_type": "code",
   "execution_count": 4,
   "metadata": {},
   "outputs": [
    {
     "name": "stdout",
     "output_type": "stream",
     "text": [
      "5\n",
      "26\n",
      "255\n"
     ]
    }
   ],
   "source": [
    "# integer equivalent of binary number 101\n",
    "num = 0b101\n",
    "print(num)\n",
    "\n",
    "# integer equivalent of Octal number 32\n",
    "num2 = 0o32\n",
    "print(num2)\n",
    "\n",
    "# integer equivalent of Hexadecimal number FF\n",
    "num3 = 0xFF\n",
    "print(num3)\n"
   ]
  },
  {
   "cell_type": "code",
   "execution_count": 5,
   "metadata": {},
   "outputs": [
    {
     "name": "stdout",
     "output_type": "stream",
     "text": [
      "This is a String\n",
      "<class 'str'>\n",
      "This is also a String\n",
      "<class 'str'>\n"
     ]
    }
   ],
   "source": [
    "# Python program to print strings and type\n",
    "\n",
    "s = \"This is a String\"\n",
    "s2 = 'This is also a String'\n",
    "\n",
    "# displaying string s and its type\n",
    "print(s)\n",
    "print(type(s))\n",
    "\n",
    "# displaying string s2 and its type\n",
    "print(s2)\n",
    "print(type(s2))\n"
   ]
  },
  {
   "cell_type": "code",
   "execution_count": 6,
   "metadata": {},
   "outputs": [
    {
     "name": "stdout",
     "output_type": "stream",
     "text": [
      "(1, 2, 3, 4, 5)\n",
      "hi\n",
      "hello\n",
      "bye\n",
      "45\n"
     ]
    }
   ],
   "source": [
    "# tuple of integers\n",
    "t1 = (1, 2, 3, 4, 5)\n",
    "# prints entire tuple\n",
    "print(t1)\n",
    "\n",
    "# tuple of strings\n",
    "t2 = (\"hi\", \"hello\", \"bye\")\n",
    "# loop through tuple elements\n",
    "for s in t2:\n",
    "    print (s)\n",
    "\n",
    "# tuple of mixed type elements\n",
    "t3 = (2, \"Lucy\", 45, \"Steve\")\n",
    "'''\n",
    "Print a specific element\n",
    "indexes start with zero\n",
    "'''\n",
    "print(t3[2])\n"
   ]
  },
  {
   "cell_type": "code",
   "execution_count": 7,
   "metadata": {},
   "outputs": [
    {
     "name": "stdout",
     "output_type": "stream",
     "text": [
      "(1, 2, 3, 4, 5)\n",
      "Apple\n",
      "Orange\n",
      "Banana\n",
      "Element at index 3 is: BeginnersBook\n"
     ]
    }
   ],
   "source": [
    "# list of integers\n",
    "lis1 = (1, 2, 3, 4, 5)\n",
    "# prints entire list\n",
    "print(lis1)\n",
    "\n",
    "# list of strings\n",
    "lis2 = (\"Apple\", \"Orange\", \"Banana\")\n",
    "# loop through tuple elements\n",
    "for x in lis2:\n",
    "    print (x)\n",
    "\n",
    "# List of mixed type elements\n",
    "lis3 = (20, \"ASR\", 15, \"BeginnersBook\")\n",
    "'''\n",
    "Print a specific element in list\n",
    "indexes start with zero\n",
    "'''\n",
    "print(\"Element at index 3 is:\",lis3[3])\n"
   ]
  },
  {
   "cell_type": "code",
   "execution_count": 8,
   "metadata": {},
   "outputs": [
    {
     "name": "stdout",
     "output_type": "stream",
     "text": [
      "ASR\n",
      "Singh\n",
      "31\n"
     ]
    }
   ],
   "source": [
    "# Dictionary example\n",
    "dict = {1:\"ASR\",\"lastname\":\"Singh\", \"age\":31}\n",
    "\n",
    "# prints the value where key value is 1\n",
    "print(dict[1])\n",
    "# prints the value where key value is \"lastname\"\n",
    "print(dict[\"lastname\"])\n",
    "# prints the value where key value is \"age\"\n",
    "print(dict[\"age\"])\n"
   ]
  },
  {
   "cell_type": "code",
   "execution_count": 9,
   "metadata": {},
   "outputs": [
    {
     "name": "stdout",
     "output_type": "stream",
     "text": [
      "bye\n",
      "2\n",
      "hi\n",
      "Hello World\n",
      "True\n",
      "{'bye', 33, 2, 'hi', 'Hello World'}\n"
     ]
    }
   ],
   "source": [
    "# Set Example\n",
    "myset = {\"hi\", 2, \"bye\", \"Hello World\"}\n",
    "\n",
    "# loop through set\n",
    "for a in myset:\n",
    "    print(a)\n",
    "\n",
    "# checking whether 2 exists in myset\n",
    "print(2 in myset)\n",
    "\n",
    "# adding new element\n",
    "myset.add(33)\n",
    "print(myset)\n"
   ]
  },
  {
   "cell_type": "code",
   "execution_count": null,
   "metadata": {},
   "outputs": [],
   "source": []
  }
 ],
 "metadata": {
  "kernelspec": {
   "display_name": "Python 3",
   "language": "python",
   "name": "python3"
  },
  "language_info": {
   "codemirror_mode": {
    "name": "ipython",
    "version": 3
   },
   "file_extension": ".py",
   "mimetype": "text/x-python",
   "name": "python",
   "nbconvert_exporter": "python",
   "pygments_lexer": "ipython3",
   "version": "3.6.10"
  }
 },
 "nbformat": 4,
 "nbformat_minor": 4
}
