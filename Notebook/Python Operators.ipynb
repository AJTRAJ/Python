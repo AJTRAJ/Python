{
 "cells": [
  {
   "cell_type": "code",
   "execution_count": 1,
   "metadata": {},
   "outputs": [
    {
     "name": "stdout",
     "output_type": "stream",
     "text": [
      "13\n",
      "5\n",
      "36\n",
      "2.25\n",
      "2\n",
      "1\n",
      "6561\n"
     ]
    }
   ],
   "source": [
    "# Examples of Arithmetic Operator  \n",
    "a = 9\n",
    "b = 4\n",
    "  \n",
    "# Addition of numbers  \n",
    "add = a + b  \n",
    "  \n",
    "# Subtraction of numbers  \n",
    "sub = a - b  \n",
    "  \n",
    "# Multiplication of number  \n",
    "mul = a * b  \n",
    "  \n",
    "# Division(float) of number  \n",
    "div1 = a / b  \n",
    "  \n",
    "# Division(floor) of number  \n",
    "div2 = a // b  \n",
    "  \n",
    "# Modulo of both number  \n",
    "mod = a % b  \n",
    "  \n",
    "# Power \n",
    "p = a ** b \n",
    "  \n",
    "# print results  \n",
    "print(add)  \n",
    "print(sub)  \n",
    "print(mul)  \n",
    "print(div1)  \n",
    "print(div2)  \n",
    "print(mod) \n",
    "print(p) \n"
   ]
  },
  {
   "cell_type": "code",
   "execution_count": 2,
   "metadata": {},
   "outputs": [
    {
     "name": "stdout",
     "output_type": "stream",
     "text": [
      "False\n",
      "True\n",
      "False\n",
      "True\n",
      "False\n",
      "True\n"
     ]
    }
   ],
   "source": [
    "# Examples of Relational Operators \n",
    "a = 13\n",
    "b = 33\n",
    "  \n",
    "# a > b is False \n",
    "print(a > b) \n",
    "  \n",
    "# a < b is True \n",
    "print(a < b) \n",
    "  \n",
    "# a == b is False \n",
    "print(a == b) \n",
    "  \n",
    "# a != b is True \n",
    "print(a != b) \n",
    "  \n",
    "# a >= b is False \n",
    "print(a >= b) \n",
    "  \n",
    "# a <= b is True \n",
    "print(a <= b) \n"
   ]
  },
  {
   "cell_type": "code",
   "execution_count": 3,
   "metadata": {},
   "outputs": [
    {
     "name": "stdout",
     "output_type": "stream",
     "text": [
      "False\n",
      "True\n",
      "False\n"
     ]
    }
   ],
   "source": [
    "# Examples of Logical Operator \n",
    "a = True\n",
    "b = False\n",
    "  \n",
    "# Print a and b is False \n",
    "print(a and b) \n",
    "  \n",
    "# Print a or b is True \n",
    "print(a or b) \n",
    "  \n",
    "# Print not a is False \n",
    "print(not a) \n"
   ]
  },
  {
   "cell_type": "code",
   "execution_count": 4,
   "metadata": {},
   "outputs": [
    {
     "name": "stdout",
     "output_type": "stream",
     "text": [
      "0\n",
      "14\n",
      "-11\n",
      "14\n",
      "2\n",
      "40\n"
     ]
    }
   ],
   "source": [
    "# Examples of Bitwise operators \n",
    "a = 10\n",
    "b = 4\n",
    "  \n",
    "# Print bitwise AND operation   \n",
    "print(a & b) \n",
    "  \n",
    "# Print bitwise OR operation \n",
    "print(a | b) \n",
    "  \n",
    "# Print bitwise NOT operation  \n",
    "print(~a) \n",
    "  \n",
    "# print bitwise XOR operation  \n",
    "print(a ^ b) \n",
    "  \n",
    "# print bitwise right shift operation  \n",
    "print(a >> 2) \n",
    "  \n",
    "# print bitwise left shift operation  \n",
    "print(a << 2) \n"
   ]
  },
  {
   "cell_type": "code",
   "execution_count": 7,
   "metadata": {},
   "outputs": [
    {
     "name": "stdout",
     "output_type": "stream",
     "text": [
      "False\n",
      "True\n",
      "False\n"
     ]
    }
   ],
   "source": [
    "# Examples of Identity operators \n",
    "a1 = 3\n",
    "b1 = 3\n",
    "a2 = 'AsrTrainingMaterial'\n",
    "b2 = 'AsrTrainingMaterial'\n",
    "a3 = [1,2,3] \n",
    "b3 = [1,2,3] \n",
    "  \n",
    "  \n",
    "print(a1 is not b1) \n",
    "  \n",
    "  \n",
    "print(a2 is b2) \n",
    "print(a3 is b3) \n"
   ]
  },
  {
   "cell_type": "code",
   "execution_count": 8,
   "metadata": {},
   "outputs": [
    {
     "name": "stdout",
     "output_type": "stream",
     "text": [
      "False\n"
     ]
    }
   ],
   "source": [
    "print(a3 is b3) "
   ]
  },
  {
   "cell_type": "code",
   "execution_count": 9,
   "metadata": {},
   "outputs": [
    {
     "name": "stdout",
     "output_type": "stream",
     "text": [
      "True\n",
      "True\n",
      "False\n",
      "True\n",
      "False\n"
     ]
    }
   ],
   "source": [
    "# Examples of Membership operator \n",
    "x = 'Geeks for Geeks'\n",
    "y = {3:'a',4:'b'} \n",
    "  \n",
    "  \n",
    "print('G' in x) \n",
    "  \n",
    "print('geeks' not in x) \n",
    "  \n",
    "print('Geeks' not in x) \n",
    "  \n",
    "print(3 in y) \n",
    "  \n",
    "print('b' in y) \n"
   ]
  },
  {
   "cell_type": "code",
   "execution_count": null,
   "metadata": {},
   "outputs": [],
   "source": []
  }
 ],
 "metadata": {
  "kernelspec": {
   "display_name": "Python 3",
   "language": "python",
   "name": "python3"
  },
  "language_info": {
   "codemirror_mode": {
    "name": "ipython",
    "version": 3
   },
   "file_extension": ".py",
   "mimetype": "text/x-python",
   "name": "python",
   "nbconvert_exporter": "python",
   "pygments_lexer": "ipython3",
   "version": "3.6.10"
  }
 },
 "nbformat": 4,
 "nbformat_minor": 4
}
